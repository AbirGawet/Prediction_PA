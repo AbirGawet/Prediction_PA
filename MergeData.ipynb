{
 "cells": [
  {
   "cell_type": "code",
   "execution_count": null,
   "metadata": {},
   "outputs": [],
   "source": [
    "import pandas as pd"
   ]
  },
  {
   "cell_type": "markdown",
   "metadata": {},
   "source": [
    "# Étape 1 : Chargement des données prétraitées\n"
   ]
  },
  {
   "cell_type": "code",
   "execution_count": null,
   "metadata": {},
   "outputs": [],
   "source": [
    "def load_preprocessed_data(article_path, dispo_path, tiers_path):\n",
    "    \"\"\"\n",
    "    Charge les données prétraitées des tables ARTICLE, DISPO, et TIERS.\n",
    "    \"\"\"\n",
    "    try:\n",
    "        article = pd.read_csv(article_path)\n",
    "        dispo = pd.read_csv(dispo_path)\n",
    "        tiers = pd.read_csv(tiers_path)\n",
    "        print(\"Données prétraitées chargées avec succès.\")\n",
    "        return article, dispo, tiers\n",
    "    except Exception as e:\n",
    "        print(f\"Erreur lors du chargement des données : {e}\")\n",
    "        return None, None, None"
   ]
  },
  {
   "cell_type": "markdown",
   "metadata": {},
   "source": [
    "# Étape 2 : Fusionner les données\n"
   ]
  },
  {
   "cell_type": "code",
   "execution_count": null,
   "metadata": {},
   "outputs": [],
   "source": [
    "def merge_data(article, dispo, tiers):\n",
    "    \"\"\"\n",
    "    Fusionne les tables ARTICLE, DISPO, et TIERS en utilisant les relations définies.\n",
    "    \"\"\"\n",
    "    # Jointure entre ARTICLE et DISPO\n",
    "    merged_data = pd.merge(article, dispo, left_on=\"GA_ARTICLE\", right_on=\"GQ_ARTICLE\", how=\"left\")\n",
    "    print(\"Jointure entre ARTICLE et DISPO terminée.\")\n",
    "\n",
    "    # Jointure entre le résultat précédent et TIERS\n",
    "    merged_data = pd.merge(merged_data, tiers, left_on=\"GA_FOURNPRINC\", right_on=\"T_AUXILIAIRE\", how=\"left\")\n",
    "    print(\"Jointure entre ARTICLE+DISPO et TIERS terminée.\")\n",
    "\n",
    "    print(f\"Taille de la table fusionnée : {merged_data.shape}\")\n",
    "    return merged_data"
   ]
  },
  {
   "cell_type": "markdown",
   "metadata": {},
   "source": [
    "# Étape 3 : Sauvegarder la table finale"
   ]
  },
  {
   "cell_type": "code",
   "execution_count": null,
   "metadata": {},
   "outputs": [],
   "source": [
    "def save_merged_data(data, output_path):\n",
    "    \"\"\"\n",
    "    Sauvegarde la table fusionnée dans un fichier CSV.\n",
    "    \"\"\"\n",
    "    try:\n",
    "        data.to_csv(output_path, index=False)\n",
    "        print(f\"Données fusionnées sauvegardées dans '{output_path}'.\")\n",
    "    except Exception as e:\n",
    "        print(f\"Erreur lors de la sauvegarde des données : {e}\")"
   ]
  },
  {
   "cell_type": "markdown",
   "metadata": {},
   "source": [
    "# Pipeline principal\n"
   ]
  },
  {
   "cell_type": "code",
   "execution_count": null,
   "metadata": {},
   "outputs": [],
   "source": [
    "def concatenate_tables(article_path, dispo_path, tiers_path, output_path):\n",
    "    \"\"\"\n",
    "    Concatène les tables ARTICLE, DISPO, et TIERS en une seule table.\n",
    "    \"\"\"\n",
    "    # Étape 1 : Chargement des données prétraitées\n",
    "    article, dispo, tiers = load_preprocessed_data(article_path, dispo_path, tiers_path)\n",
    "    if article is None or dispo is None or tiers is None:\n",
    "        return None\n",
    "\n",
    "    # Étape 2 : Fusionner les données\n",
    "    merged_data = merge_data(article, dispo, tiers)\n",
    "\n",
    "    # Étape 3 : Sauvegarder la table finale\n",
    "    save_merged_data(merged_data, output_path)\n",
    "\n",
    "    return merged_data"
   ]
  },
  {
   "cell_type": "markdown",
   "metadata": {},
   "source": [
    "# Exécution du pipeline\n"
   ]
  },
  {
   "cell_type": "code",
   "execution_count": null,
   "metadata": {},
   "outputs": [],
   "source": [
    "if __name__ == \"__main__\":\n",
    "    # Chemins vers les fichiers prétraités\n",
    "    article_path = \"ArticlePreprocessed.csv\"\n",
    "    dispo_path = \"DISPO_Preprocessed.csv\"\n",
    "    tiers_path = \"TIERS_Preprocessed.csv\"\n",
    "\n",
    "    # Chemin de sortie pour la table fusionnée\n",
    "    output_path = \"Concatenated_Data.csv\"\n",
    "\n",
    "    # Concaténer les tables\n",
    "    concatenated_data = concatenate_tables(article_path, dispo_path, tiers_path, output_path)\n",
    "\n",
    "    # Afficher un aperçu des données fusionnées\n",
    "    if concatenated_data is not None:\n",
    "        print(concatenated_data.head())"
   ]
  }
 ],
 "metadata": {
  "language_info": {
   "name": "python"
  }
 },
 "nbformat": 4,
 "nbformat_minor": 2
}
