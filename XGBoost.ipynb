{
 "cells": [
  {
   "cell_type": "markdown",
   "id": "2cdacd1d",
   "metadata": {},
   "source": [
    "# Installation des bibliothèques"
   ]
  },
  {
   "cell_type": "code",
   "execution_count": null,
   "id": "ea9d0935",
   "metadata": {},
   "outputs": [],
   "source": [
    "!ip install xgboost"
   ]
  },
  {
   "cell_type": "markdown",
   "id": "08081b25",
   "metadata": {},
   "source": [
    "# Définir le modèle et l'Entraîner"
   ]
  },
  {
   "cell_type": "code",
   "execution_count": null,
   "id": "99be01db",
   "metadata": {},
   "outputs": [],
   "source": [
    "from xgboost import XGBClassifier\n",
    "\n",
    "# Initialisation du modèle\n",
    "model = XGBClassifier(n_estimators=100, learning_rate=0.1, max_depth=6)\n",
    "\n",
    "# Entraînement\n",
    "model.fit(X_train, y_train)"
   ]
  },
  {
   "cell_type": "markdown",
   "id": "408dbf23",
   "metadata": {},
   "source": [
    "# Évaluer le modèle"
   ]
  },
  {
   "cell_type": "code",
   "execution_count": null,
   "id": "550cd49a",
   "metadata": {},
   "outputs": [],
   "source": [
    "from sklearn.metrics import accuracy_score\n",
    "\n",
    "# Prédiction\n",
    "y_pred = model.predict(X_test)\n",
    "\n",
    "# Évaluation\n",
    "accuracy = accuracy_score(y_test, y_pred)\n",
    "print(f\"Accuracy: {accuracy}\")"
   ]
  },
  {
   "cell_type": "markdown",
   "id": "ef95f7bb",
   "metadata": {},
   "source": [
    "# Ajuster les hyperparamètres\n",
    "Utilisez des techniques comme la validation croisée (GridSearchCV ou RandomizedSearchCV) pour trouver les meilleurs hyperparamètres.##"
   ]
  },
  {
   "cell_type": "markdown",
   "id": "b8c2427f",
   "metadata": {},
   "source": [
    "# Conseils supplémentaires\n",
    "*/ Commencez simple : Utilisez les hyperparamètres par défaut pour commencer, puis ajustez-les progressivement.\n",
    "*/ Surveillez le surapprentissage : Si votre modèle surapprend, essayez d'ajuster des paramètres comme max_depth, learning_rate, ou reg_lambda.\n",
    "*/ Utilisez la validation croisée : Cela permet d'évaluer la performance du modèle de manière plus fiable.\n",
    "*/ Explorez les graphiques d'importance des caractéristiques : XGBoost et LightGBM offrent des outils pour visualiser les caractéristiques les plus importantes."
   ]
  }
 ],
 "metadata": {
  "kernelspec": {
   "display_name": "base",
   "language": "python",
   "name": "python3"
  },
  "language_info": {
   "codemirror_mode": {
    "name": "ipython",
    "version": 3
   },
   "file_extension": ".py",
   "mimetype": "text/x-python",
   "name": "python",
   "nbconvert_exporter": "python",
   "pygments_lexer": "ipython3",
   "version": "3.12.7"
  }
 },
 "nbformat": 4,
 "nbformat_minor": 5
}
